{
 "cells": [
  {
   "cell_type": "code",
   "execution_count": 5,
   "metadata": {},
   "outputs": [
    {
     "name": "stdout",
     "output_type": "stream",
     "text": [
      "Seu IMC é: 23.61275088547816\n"
     ]
    }
   ],
   "source": [
    "#IMC\n",
    "peso = float(input('Digite seu peso (em kg): '))\n",
    "altura = float(input('Digite sua altura (em metros): '))\n",
    "IMC = peso / (altura * altura)\n",
    "print(\"Seu IMC é:\", IMC)\n"
   ]
  },
  {
   "cell_type": "code",
   "execution_count": 7,
   "metadata": {},
   "outputs": [],
   "source": [
    "# Lista vazia \n",
    "lista = []\n",
    "# Pede ao usuário para inserir 5 números\n",
    "for i in range(5):\n",
    "    numero = float(input(f\"Digite o {i + 1}º número: \"))\n",
    "    lista.append(numero)\n",
    "print(\"A lista nova lista é:\", lista)\n"
   ]
  },
  {
   "cell_type": "code",
   "execution_count": 3,
   "metadata": {},
   "outputs": [
    {
     "name": "stdout",
     "output_type": "stream",
     "text": [
      "A lista de nomes é: ['catharina', 'luiza']\n"
     ]
    }
   ],
   "source": [
    "# Solicita ao usuário que insira uma lista de nomes separados por vírgula\n",
    "entrada = input(\"Digite uma lista de nomes separados por vírgula: \")\n",
    "# Divide a lista de strings usando a vírgula como delimitador\n",
    "nomes = entrada.split(',')\n",
    "# Exibe a lista de nomes\n",
    "print(\"A lista de nomes é:\", nomes)\n"
   ]
  },
  {
   "cell_type": "code",
   "execution_count": 1,
   "metadata": {},
   "outputs": [
    {
     "name": "stdout",
     "output_type": "stream",
     "text": [
      "0\n",
      "1\n"
     ]
    }
   ],
   "source": [
    "for i in range(2):\n",
    "    print(i)"
   ]
  }
 ],
 "metadata": {
  "kernelspec": {
   "display_name": "Python 3",
   "language": "python",
   "name": "python3"
  },
  "language_info": {
   "codemirror_mode": {
    "name": "ipython",
    "version": 3
   },
   "file_extension": ".py",
   "mimetype": "text/x-python",
   "name": "python",
   "nbconvert_exporter": "python",
   "pygments_lexer": "ipython3",
   "version": "3.12.0"
  }
 },
 "nbformat": 4,
 "nbformat_minor": 2
}
