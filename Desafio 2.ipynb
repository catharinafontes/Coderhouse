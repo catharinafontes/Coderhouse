{
 "cells": [
  {
   "cell_type": "code",
   "execution_count": 6,
   "metadata": {},
   "outputs": [],
   "source": [
    "##%pip install plyer\n",
    "from plyer import notification \n",
    "notification.notify(\n",
    "     title='Título da notificação',\n",
    "     message='Mensagem da notificação',\n",
    "     app_name='Nome do aplicativo',\n",
    "     timeout=10 )"
   ]
  },
  {
   "cell_type": "code",
   "execution_count": 3,
   "metadata": {},
   "outputs": [],
   "source": [
    "from plyer import notification\n",
    "import datetime\n",
    "\n",
    "def alerta(nivel, base, etapa):\n",
    "    # Mapeia o nível para o título da notificação\n",
    "    nivel_titulo = {\n",
    "        1: \"Alerta Baixo\",\n",
    "        2: \"Alerta Médio\",\n",
    "        3: \"Alerta Alto\"\n",
    "    }\n",
    "    \n",
    "    # Obtém o título com base no nível\n",
    "    titulo = nivel_titulo.get(nivel, \"Nível Desconhecido\")\n",
    "    \n",
    "    # Obtém a data atual no formato \"dd/mm/yyyy\" ( que é o formato que eu quero)\n",
    "    data_atual = datetime.datetime.now().strftime('%d/%m/%Y %H:%M:%S')\n",
    "\n",
    "    # Mensagem da notificação\n",
    "    mensagem = f'Falha no carregamento da base {base} na etapa {etapa}\\nData: {data_atual}'\n",
    "\n",
    "    # Exibe a notificação\n",
    "    notification.notify(\n",
    "        title=titulo,\n",
    "        message=mensagem,\n",
    "    )\n",
    "\n",
    "# Exemplo de uso:\n",
    "nivel = 3  # Nível alto\n",
    "base = \"MinhaBaseDeDados\"\n",
    "etapa = \"1\"\n",
    "alerta(nivel, base, etapa)\n"
   ]
  }
 ],
 "metadata": {
  "kernelspec": {
   "display_name": "Python 3",
   "language": "python",
   "name": "python3"
  },
  "language_info": {
   "codemirror_mode": {
    "name": "ipython",
    "version": 3
   },
   "file_extension": ".py",
   "mimetype": "text/x-python",
   "name": "python",
   "nbconvert_exporter": "python",
   "pygments_lexer": "ipython3",
   "version": "3.12.0"
  }
 },
 "nbformat": 4,
 "nbformat_minor": 2
}
